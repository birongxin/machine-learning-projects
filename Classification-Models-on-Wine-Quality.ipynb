{
 "cells": [
  {
   "cell_type": "raw",
   "metadata": {
    "vscode": {
     "languageId": "raw"
    }
   },
   "source": [
    "---\n",
    "title: Project 3\n",
    "author: \"Rongxin Bi\"\n",
    "date: 02/11/2025\n",
    "format: pdf\n",
    "header-includes:\n",
    "   - \\usepackage{amsmath}\n",
    "   - \\usepackage{bbm}\n",
    "   - \\usepackage{array}\n",
    "   - \\usepackage{multirow}\n",
    "   - \\usepackage{graphicx}\n",
    "   - \\usepackage{float}\n",
    "   - \\usepackage{apacite}\n",
    "   - \\usepackage{natbib}\n",
    "execute: \n",
    "  echo: true\n",
    "fontsize: 11pt\n",
    "geometry: margin = 1in\n",
    "linestretch: 1.5\n",
    "---"
   ]
  },
  {
   "cell_type": "markdown",
   "metadata": {},
   "source": [
    "\\newpage"
   ]
  },
  {
   "cell_type": "code",
   "execution_count": 785,
   "metadata": {},
   "outputs": [
    {
     "name": "stderr",
     "output_type": "stream",
     "text": [
      "[nltk_data] Downloading package punkt to /Users/michael/nltk_data...\n",
      "[nltk_data]   Package punkt is already up-to-date!\n"
     ]
    }
   ],
   "source": [
    "# import libraries\n",
    "import pandas as pd\n",
    "import numpy as np\n",
    "import matplotlib.pyplot as plt\n",
    "import seaborn as sns\n",
    "\n",
    "from sklearn.tree import DecisionTreeClassifier\n",
    "from sklearn.model_selection import cross_val_score\n",
    "from sklearn.model_selection import train_test_split, cross_val_score\n",
    "from sklearn.metrics import mean_squared_error, confusion_matrix, classification_report\n",
    "from sklearn.tree import DecisionTreeClassifier, DecisionTreeRegressor, plot_tree\n",
    "from sklearn.model_selection import GridSearchCV\n",
    "from ucimlrepo import fetch_ucirepo \n",
    "from sklearn.neighbors import KNeighborsClassifier\n",
    "\n",
    "import nltk\n",
    "nltk.download('punkt')\n",
    "wine = fetch_ucirepo(id=186) "
   ]
  },
  {
   "cell_type": "code",
   "execution_count": 786,
   "metadata": {},
   "outputs": [
    {
     "data": {
      "text/plain": [
       "(6497, 13)"
      ]
     },
     "execution_count": 786,
     "metadata": {},
     "output_type": "execute_result"
    }
   ],
   "source": [
    "# 1 How many observations and features (variables)\n",
    "all = wine.data.original\n",
    "all.shape"
   ]
  },
  {
   "cell_type": "markdown",
   "metadata": {},
   "source": [
    "There are 6497 observations, there are 13 features variables (color is other(categorical) and quality is target)"
   ]
  },
  {
   "cell_type": "markdown",
   "metadata": {},
   "source": []
  },
  {
   "cell_type": "code",
   "execution_count": 787,
   "metadata": {},
   "outputs": [
    {
     "name": "stdout",
     "output_type": "stream",
     "text": [
      "                    name     role         type demographic  \\\n",
      "0          fixed_acidity  Feature   Continuous        None   \n",
      "1       volatile_acidity  Feature   Continuous        None   \n",
      "2            citric_acid  Feature   Continuous        None   \n",
      "3         residual_sugar  Feature   Continuous        None   \n",
      "4              chlorides  Feature   Continuous        None   \n",
      "5    free_sulfur_dioxide  Feature   Continuous        None   \n",
      "6   total_sulfur_dioxide  Feature   Continuous        None   \n",
      "7                density  Feature   Continuous        None   \n",
      "8                     pH  Feature   Continuous        None   \n",
      "9              sulphates  Feature   Continuous        None   \n",
      "10               alcohol  Feature   Continuous        None   \n",
      "11               quality   Target      Integer        None   \n",
      "12                 color    Other  Categorical        None   \n",
      "\n",
      "               description units missing_values  \n",
      "0                     None  None             no  \n",
      "1                     None  None             no  \n",
      "2                     None  None             no  \n",
      "3                     None  None             no  \n",
      "4                     None  None             no  \n",
      "5                     None  None             no  \n",
      "6                     None  None             no  \n",
      "7                     None  None             no  \n",
      "8                     None  None             no  \n",
      "9                     None  None             no  \n",
      "10                    None  None             no  \n",
      "11  score between 0 and 10  None             no  \n",
      "12            red or white  None             no  \n"
     ]
    }
   ],
   "source": [
    "#2 what type of attributes\n",
    "var_inf = wine.variables\n",
    "print(var_inf)"
   ]
  },
  {
   "cell_type": "markdown",
   "metadata": {},
   "source": [
    "Except the color is categorical, quality is integer, and other rest of features are continuous "
   ]
  },
  {
   "cell_type": "markdown",
   "metadata": {},
   "source": [
    "3) quality   serves as the response (target)"
   ]
  },
  {
   "cell_type": "code",
   "execution_count": 788,
   "metadata": {},
   "outputs": [
    {
     "name": "stdout",
     "output_type": "stream",
     "text": [
      "['no']\n"
     ]
    }
   ],
   "source": [
    "\n",
    "#4 there are no missing values(also can check the info from website)\n",
    "\n",
    "print(var_inf[\"missing_values\"].unique())\n",
    "\n"
   ]
  },
  {
   "cell_type": "code",
   "execution_count": 789,
   "metadata": {},
   "outputs": [
    {
     "data": {
      "text/html": [
       "<div>\n",
       "<style scoped>\n",
       "    .dataframe tbody tr th:only-of-type {\n",
       "        vertical-align: middle;\n",
       "    }\n",
       "\n",
       "    .dataframe tbody tr th {\n",
       "        vertical-align: top;\n",
       "    }\n",
       "\n",
       "    .dataframe thead th {\n",
       "        text-align: right;\n",
       "    }\n",
       "</style>\n",
       "<table border=\"1\" class=\"dataframe\">\n",
       "  <thead>\n",
       "    <tr style=\"text-align: right;\">\n",
       "      <th></th>\n",
       "      <th>fixed_acidity</th>\n",
       "      <th>volatile_acidity</th>\n",
       "      <th>citric_acid</th>\n",
       "      <th>residual_sugar</th>\n",
       "      <th>chlorides</th>\n",
       "      <th>free_sulfur_dioxide</th>\n",
       "      <th>total_sulfur_dioxide</th>\n",
       "      <th>density</th>\n",
       "      <th>pH</th>\n",
       "      <th>sulphates</th>\n",
       "      <th>alcohol</th>\n",
       "      <th>quality</th>\n",
       "      <th>color</th>\n",
       "    </tr>\n",
       "  </thead>\n",
       "  <tbody>\n",
       "    <tr>\n",
       "      <th>0</th>\n",
       "      <td>7.4</td>\n",
       "      <td>0.70</td>\n",
       "      <td>0.00</td>\n",
       "      <td>1.9</td>\n",
       "      <td>0.076</td>\n",
       "      <td>11.0</td>\n",
       "      <td>34.0</td>\n",
       "      <td>0.9978</td>\n",
       "      <td>3.51</td>\n",
       "      <td>0.56</td>\n",
       "      <td>9.4</td>\n",
       "      <td>5</td>\n",
       "      <td>red</td>\n",
       "    </tr>\n",
       "    <tr>\n",
       "      <th>1</th>\n",
       "      <td>7.8</td>\n",
       "      <td>0.88</td>\n",
       "      <td>0.00</td>\n",
       "      <td>2.6</td>\n",
       "      <td>0.098</td>\n",
       "      <td>25.0</td>\n",
       "      <td>67.0</td>\n",
       "      <td>0.9968</td>\n",
       "      <td>3.20</td>\n",
       "      <td>0.68</td>\n",
       "      <td>9.8</td>\n",
       "      <td>5</td>\n",
       "      <td>red</td>\n",
       "    </tr>\n",
       "    <tr>\n",
       "      <th>2</th>\n",
       "      <td>7.8</td>\n",
       "      <td>0.76</td>\n",
       "      <td>0.04</td>\n",
       "      <td>2.3</td>\n",
       "      <td>0.092</td>\n",
       "      <td>15.0</td>\n",
       "      <td>54.0</td>\n",
       "      <td>0.9970</td>\n",
       "      <td>3.26</td>\n",
       "      <td>0.65</td>\n",
       "      <td>9.8</td>\n",
       "      <td>5</td>\n",
       "      <td>red</td>\n",
       "    </tr>\n",
       "    <tr>\n",
       "      <th>3</th>\n",
       "      <td>11.2</td>\n",
       "      <td>0.28</td>\n",
       "      <td>0.56</td>\n",
       "      <td>1.9</td>\n",
       "      <td>0.075</td>\n",
       "      <td>17.0</td>\n",
       "      <td>60.0</td>\n",
       "      <td>0.9980</td>\n",
       "      <td>3.16</td>\n",
       "      <td>0.58</td>\n",
       "      <td>9.8</td>\n",
       "      <td>6</td>\n",
       "      <td>red</td>\n",
       "    </tr>\n",
       "    <tr>\n",
       "      <th>4</th>\n",
       "      <td>7.4</td>\n",
       "      <td>0.70</td>\n",
       "      <td>0.00</td>\n",
       "      <td>1.9</td>\n",
       "      <td>0.076</td>\n",
       "      <td>11.0</td>\n",
       "      <td>34.0</td>\n",
       "      <td>0.9978</td>\n",
       "      <td>3.51</td>\n",
       "      <td>0.56</td>\n",
       "      <td>9.4</td>\n",
       "      <td>5</td>\n",
       "      <td>red</td>\n",
       "    </tr>\n",
       "  </tbody>\n",
       "</table>\n",
       "</div>"
      ],
      "text/plain": [
       "   fixed_acidity  volatile_acidity  citric_acid  residual_sugar  chlorides  \\\n",
       "0            7.4              0.70         0.00             1.9      0.076   \n",
       "1            7.8              0.88         0.00             2.6      0.098   \n",
       "2            7.8              0.76         0.04             2.3      0.092   \n",
       "3           11.2              0.28         0.56             1.9      0.075   \n",
       "4            7.4              0.70         0.00             1.9      0.076   \n",
       "\n",
       "   free_sulfur_dioxide  total_sulfur_dioxide  density    pH  sulphates  \\\n",
       "0                 11.0                  34.0   0.9978  3.51       0.56   \n",
       "1                 25.0                  67.0   0.9968  3.20       0.68   \n",
       "2                 15.0                  54.0   0.9970  3.26       0.65   \n",
       "3                 17.0                  60.0   0.9980  3.16       0.58   \n",
       "4                 11.0                  34.0   0.9978  3.51       0.56   \n",
       "\n",
       "   alcohol  quality color  \n",
       "0      9.4        5   red  \n",
       "1      9.8        5   red  \n",
       "2      9.8        5   red  \n",
       "3      9.8        6   red  \n",
       "4      9.4        5   red  "
      ]
     },
     "execution_count": 789,
     "metadata": {},
     "output_type": "execute_result"
    }
   ],
   "source": [
    "##5 Display five rows from the original dataset\n",
    "\n",
    "all.head(5)"
   ]
  },
  {
   "cell_type": "code",
   "execution_count": 790,
   "metadata": {},
   "outputs": [
    {
     "data": {
      "image/png": "[encoded data removed]",
      "text/plain": [
       "<Figure size 640x480 with 1 Axes>"
      ]
     },
     "metadata": {},
     "output_type": "display_data"
    }
   ],
   "source": [
    "#6 \n",
    "\n",
    "X = wine.data.features\n",
    "y = wine.data.targets\n",
    "sns.countplot(\n",
    "    data=y,\n",
    "    x = 'quality'\n",
    ")\n",
    "\n",
    "plt.show()"
   ]
  },
  {
   "cell_type": "code",
   "execution_count": 791,
   "metadata": {},
   "outputs": [
    {
     "name": "stdout",
     "output_type": "stream",
     "text": [
      "[5, 6, 7]\n",
      "Categories (3, int64): [5, 6, 7]\n",
      "fixed_acidity            float64\n",
      "volatile_acidity         float64\n",
      "citric_acid              float64\n",
      "residual_sugar           float64\n",
      "chlorides                float64\n",
      "free_sulfur_dioxide      float64\n",
      "total_sulfur_dioxide     float64\n",
      "density                  float64\n",
      "pH                       float64\n",
      "sulphates                float64\n",
      "alcohol                  float64\n",
      "quality                 category\n",
      "color_white                 bool\n",
      "dtype: object\n"
     ]
    }
   ],
   "source": [
    "# Change 'quality' column to a categorical type\n",
    "wine_filtered['quality'] = wine_filtered['quality'].astype('category')\n",
    "\n",
    "# Check unique values in the 'quality' column\n",
    "unique_quality_values = wine_filtered['quality'].unique()\n",
    "print(unique_quality_values)\n",
    "\n",
    "# Check if conversion completed  \n",
    "print(wine_filtered.dtypes)\n"
   ]
  },
  {
   "cell_type": "markdown",
   "metadata": {},
   "source": [
    "The dataset is imbalanced, with a higher concentration around quality 5 and 6. Like quality score 3 and quality score 9 have very few instances, which may cause a biased model performance."
   ]
  },
  {
   "cell_type": "markdown",
   "metadata": {},
   "source": [
    "Because the quality(respond variable) is integer, we need to convert integer to categorical for classification problem( No need transformation for regression)"
   ]
  },
  {
   "cell_type": "code",
   "execution_count": 792,
   "metadata": {},
   "outputs": [
    {
     "data": {
      "text/plain": [
       "(6053, 13)"
      ]
     },
     "execution_count": 792,
     "metadata": {},
     "output_type": "execute_result"
    }
   ],
   "source": [
    "#7 Remove observations with quality scores of 3, 4, 8, and 9\n",
    "wine_filtered = all[~all['quality'].isin([3, 4, 8, 9])]\n",
    "wine_filtered.shape\n"
   ]
  },
  {
   "cell_type": "markdown",
   "metadata": {},
   "source": [
    "8) After filtering, how many unique quality scores remain in the dataset?\n"
   ]
  },
  {
   "cell_type": "code",
   "execution_count": 793,
   "metadata": {},
   "outputs": [
    {
     "name": "stdout",
     "output_type": "stream",
     "text": [
      "3\n",
      "There are 3 quality scores remain in the dataset.\n"
     ]
    }
   ],
   "source": [
    "##8\n",
    "unique_quality_scores = wine_filtered['quality'].nunique()\n",
    "print(unique_quality_scores)\n",
    "print(f\"There are {unique_quality_scores} quality scores remain in the dataset.\")"
   ]
  },
  {
   "cell_type": "code",
   "execution_count": 794,
   "metadata": {},
   "outputs": [
    {
     "data": {
      "image/png": "[encoded data removed]",
      "text/plain": [
       "<Figure size 640x480 with 1 Axes>"
      ]
     },
     "metadata": {},
     "output_type": "display_data"
    }
   ],
   "source": [
    "# 9 Check the distribution of features for any outliers\n",
    "features = ['fixed_acidity']\n",
    "for feature in features:\n",
    "    if feature in wine_filtered.columns:\n",
    "        plt.figure()\n",
    "        sns.boxplot(data=wine_filtered[[feature]])\n",
    "        plt.title(f'Boxplot of {feature}')\n",
    "        plt.show"
   ]
  },
  {
   "cell_type": "markdown",
   "metadata": {},
   "source": [
    "After constructing boxplot for each features, Any data point above the upper cutoff or below the lower cutoff is considered an outlier.\n",
    "(Lower cutoff= quantile1 - 1.5*IQR , upper cutoff= quantile3 + 1.5*IQR )\n",
    "(IQR= Q3-Q1)"
   ]
  },
  {
   "cell_type": "code",
   "execution_count": 795,
   "metadata": {},
   "outputs": [],
   "source": [
    "\n",
    "# 10 Separate the predictors and the response variable from filtered dataset.\n",
    "Y = wine_filtered['quality'].astype('category')\n",
    "X = wine_filtered.drop(columns=['quality'])  # Drop the target column to get features\n",
    "Y = wine_filtered['quality']  # Select the target column"
   ]
  },
  {
   "cell_type": "markdown",
   "metadata": {},
   "source": [
    "11 \n",
    "Since the color contains categorical data, classification trees require numeric features, so we need to convert color into a numerical format. One-hot encoding need to be applied to transfer a new binary column(like 1 if white,0 if red), for training a classification tree model. "
   ]
  },
  {
   "cell_type": "code",
   "execution_count": 796,
   "metadata": {},
   "outputs": [],
   "source": [
    "\n",
    "# Apply one-hot encoding to the 'color' column\n",
    "wine_filtered = pd.get_dummies(wine_filtered, columns=['color'], drop_first=True)"
   ]
  },
  {
   "cell_type": "code",
   "execution_count": 797,
   "metadata": {},
   "outputs": [
    {
     "name": "stdout",
     "output_type": "stream",
     "text": [
      "fixed_acidity           float64\n",
      "volatile_acidity        float64\n",
      "citric_acid             float64\n",
      "residual_sugar          float64\n",
      "chlorides               float64\n",
      "free_sulfur_dioxide     float64\n",
      "total_sulfur_dioxide    float64\n",
      "density                 float64\n",
      "pH                      float64\n",
      "sulphates               float64\n",
      "alcohol                 float64\n",
      "quality                   int64\n",
      "color_white                bool\n",
      "dtype: object\n"
     ]
    }
   ],
   "source": [
    "## All of the feature is numeric，good for training tree model\n",
    "print(wine_filtered.dtypes)  "
   ]
  },
  {
   "cell_type": "code",
   "execution_count": 826,
   "metadata": {},
   "outputs": [],
   "source": [
    "# Re-define X and y after encoding\n",
    "X = wine_filtered.drop(columns=['quality'])  # Features (numeric only)\n",
    "y = wine_filtered['quality']  # Target variable\n",
    "\n",
    "\n"
   ]
  },
  {
   "cell_type": "code",
   "execution_count": 799,
   "metadata": {},
   "outputs": [],
   "source": [
    "# 12 Split the dataset (filtered in Part (10) and transformed in Part (11)) into training (80%) and testing (20%) subsets.\n",
    "X_train, X_test, y_train, y_test = train_test_split(\n",
    "X,\n",
    "Y,\n",
    "test_size=0.2,\n",
    "random_state=0,\n",
    "stratify=Y\n",
    ")\n"
   ]
  },
  {
   "cell_type": "code",
   "execution_count": 818,
   "metadata": {},
   "outputs": [
    {
     "data": {
      "image/png": "[encoded data removed]",
      "text/plain": [
       "<Figure size 640x480 with 1 Axes>"
      ]
     },
     "metadata": {},
     "output_type": "display_data"
    }
   ],
   "source": [
    "\n",
    "depth_range = range(1, 28)\n",
    "cv_scores = []\n",
    "for k in depth_range:\n",
    "    dt = DecisionTreeClassifier(\n",
    "        criterion='gini', # growing tree based on gini index\n",
    "        random_state=0, \n",
    "        max_depth=k\n",
    "        )\n",
    "    \n",
    "    # 5-fold cross-validation using accuracy \n",
    "    cv_scores_k = cross_val_score(\n",
    "        dt,\n",
    "        X_train,\n",
    "        y_train,\n",
    "        cv=5,\n",
    "        # accuracy for classification on the hold-out folds\n",
    "        scoring='accuracy'  \n",
    "    )\n",
    "    \n",
    "    # append the average accuracy across all folds\n",
    "    cv_scores.append(np.mean(cv_scores_k))\n",
    "    \n",
    "plt.plot(depth_range, cv_scores)\n",
    "plt.xlabel('depth')\n",
    "plt.ylabel('CV accuracy')\n",
    "plt.xticks(range(1,28))\n",
    "plt.show()"
   ]
  },
  {
   "cell_type": "code",
   "execution_count": 825,
   "metadata": {},
   "outputs": [
    {
     "data": {
      "text/plain": [
       "np.float64(0.63)"
      ]
     },
     "execution_count": 825,
     "metadata": {},
     "output_type": "execute_result"
    }
   ],
   "source": [
    "##Best cross-validation accuracy\n",
    "round(max(cv_scores), 2)  \n",
    "\n"
   ]
  },
  {
   "cell_type": "code",
   "execution_count": 824,
   "metadata": {},
   "outputs": [
    {
     "name": "stdout",
     "output_type": "stream",
     "text": [
      "Optimal max depth: 18\n"
     ]
    }
   ],
   "source": [
    "best_depth = depth_range[np.argmax(cv_scores)]\n",
    "print(\"Optimal max depth:\", best_depth)"
   ]
  },
  {
   "cell_type": "code",
   "execution_count": 823,
   "metadata": {},
   "outputs": [
    {
     "name": "stdout",
     "output_type": "stream",
     "text": [
      "0.65\n",
      "Test accuracy is 0.65\n"
     ]
    }
   ],
   "source": [
    "# Evaluate the final performance of the best model on the test data\n",
    "dt_best = DecisionTreeClassifier(\n",
    "    max_depth = 18, \n",
    "    random_state=0\n",
    "    ) \n",
    "dt_best.fit(X_train, y_train)\n",
    "test_accuracy = dt_best.score(X_test, y_test)\n",
    "print(round(test_accuracy,2))\n",
    "\n",
    "print(f'Test accuracy is {test_accuracy:.2f}')"
   ]
  },
  {
   "cell_type": "markdown",
   "metadata": {},
   "source": [
    "The best cross_validation(CV) accuracy reached at 0.63(63%), the best model that trained with maxdepth 18 and reached a test accuracy of 0.65 (65%), which can confirm the model perform slightly better on the test than during cross-validation.\n",
    "The model generalize well and does not overfit significantly. There might be some bias in the model since the improvement is not very much. (Remove less relevant features and check if any important feature is missing, and ensemble methods might be needed for higher performance)"
   ]
  },
  {
   "cell_type": "code",
   "execution_count": 806,
   "metadata": {},
   "outputs": [
    {
     "name": "stderr",
     "output_type": "stream",
     "text": [
      "/var/folders/sx/00v4vsfs2vs4gnsz544px2s80000gn/T/ipykernel_23324/3839289009.py:17: FutureWarning: \n",
      "\n",
      "Passing `palette` without assigning `hue` is deprecated and will be removed in v0.14.0. Assign the `y` variable to `hue` and set `legend=False` for the same effect.\n",
      "\n",
      "  sns.barplot(y='Feature', x='Importance', data=importances_df, palette=\"viridis\")\n"
     ]
    },
    {
     "data": {
      "image/png": "[encoded data removed]",
      "text/plain": [
       "<Figure size 1000x600 with 1 Axes>"
      ]
     },
     "metadata": {},
     "output_type": "display_data"
    },
    {
     "name": "stdout",
     "output_type": "stream",
     "text": [
      "Top 2 most important features for predicting wine quality:\n",
      "             Feature  Importance\n",
      "10           alcohol   15.602745\n",
      "1   volatile_acidity   10.834472\n"
     ]
    }
   ],
   "source": [
    "#14 Using best classification tree model, identify the two most important features\n",
    "\n",
    "# Get feature importances from the best decision tree model\n",
    "feature_importance = dt_best.feature_importances_ * 100  # Use correct model variable\n",
    "\n",
    "# Create a DataFrame for better visualization\n",
    "importances_df = pd.DataFrame({\n",
    "    'Feature': X_train.columns,  # Ensure correct feature names\n",
    "    'Importance': feature_importance\n",
    "})\n",
    "\n",
    "# Sort the DataFrame by importance in descending order\n",
    "importances_df = importances_df.sort_values(by='Importance', ascending=False)\n",
    "\n",
    "# Plot the feature importances\n",
    "plt.figure(figsize=(10, 6))\n",
    "sns.barplot(y='Feature', x='Importance', data=importances_df, palette=\"viridis\")\n",
    "plt.title('Feature Importances from the Best Decision Tree Model')\n",
    "plt.xlabel('Importance Score')\n",
    "plt.ylabel('Feature')\n",
    "plt.show()\n",
    "\n",
    "# Display the top 2 most important features\n",
    "print(\"Top 2 most important features for predicting wine quality:\")\n",
    "print(importances_df.head(2))"
   ]
  },
  {
   "cell_type": "markdown",
   "metadata": {},
   "source": [
    "#15\n",
    "The classification tree model achieved a cross-validation accuracy of 63% and a final test accuracy of 65%, showing a moderate predictive ability without overfitting.\n",
    "The model identifies alcohol content and volatile acidity as the most important predictors, which means these factors significantly influence wine quality ratings.The chemical composition of the wine plays a significant role in determining its quality. However, wine quality score may also depend on other features like personal subjective opinion external influences that are not captured by this dataset. Further improvements could be made by exploring more sophisticated models, such as random forests or boosting methods, to get a higher performance."
   ]
  },
  {
   "cell_type": "code",
   "execution_count": 807,
   "metadata": {},
   "outputs": [],
   "source": [
    "# 16 Create copies of X_train and X_test\n",
    "X_train2 = X_train.copy()\n",
    "X_test2 = X_test.copy()"
   ]
  },
  {
   "cell_type": "markdown",
   "metadata": {},
   "source": [
    "#17\n",
    "Yes, additional data transformation is necessary before  training a KNN classifier. Because KNN relies on distance calculations, features need to be standardized to ensure fair comparisons. We use StandardScaler to normalize the numerical features in X_train2 and X_test2. Otherwise, the distance will be dominated by the feature who has large value range. \n",
    "Other transformations like encoding categorical features or outlier handling might also be needed depending on the dataset."
   ]
  },
  {
   "cell_type": "code",
   "execution_count": 808,
   "metadata": {},
   "outputs": [],
   "source": [
    "from sklearn.preprocessing import StandardScaler\n",
    "\n",
    "# Initialize the scaler\n",
    "scaler = StandardScaler()\n",
    "\n",
    "# Fit the scaler on the training data and transform both training and test data\n",
    "X_train2_scaled = scaler.fit_transform(X_train2)\n",
    "X_test2_scaled = scaler.transform(X_test2)"
   ]
  },
  {
   "cell_type": "code",
   "execution_count": 809,
   "metadata": {},
   "outputs": [
    {
     "data": {
      "image/png": "[encoded data removed]",
      "text/plain": [
       "<Figure size 640x480 with 1 Axes>"
      ]
     },
     "metadata": {},
     "output_type": "display_data"
    },
    {
     "name": "stdout",
     "output_type": "stream",
     "text": [
      "The best number of neighbors is 8 with a cross-validation accuracy of 0.60\n",
      "Test accuracy of the best KNN model: 0.59\n"
     ]
    }
   ],
   "source": [
    "#18 Using the training data (`X_train2`, `y_train`), train a K-Nearest Neighbors (KNN) \n",
    "# classifier and perform model selection through cross-validation (e.g., tuning the neighborhood size).\n",
    "\n",
    "# Define the range of k values and perform cross-validation for each k\n",
    "k_range = range(2, 21)\n",
    "cv_scores_knn = []\n",
    "\n",
    "for k in k_range:\n",
    "    knn = KNeighborsClassifier(n_neighbors=k)\n",
    "    cv_scores_k = cross_val_score(knn, X_train2_scaled, y_train, cv=5, scoring='accuracy')\n",
    "    cv_scores_knn.append(np.mean(cv_scores_k))\n",
    "\n",
    "# Plot the cross-validation accuracy for each k\n",
    "plt.plot(k_range, cv_scores_knn)\n",
    "plt.xlabel('Number of Neighbors (k)')\n",
    "plt.ylabel('Cross-Validation Accuracy')\n",
    "plt.title('KNN Cross-Validation Accuracy for Different k')\n",
    "plt.show()\n",
    "\n",
    "# Find the best k and train the best KNN model on the training data\n",
    "best_k = k_range[np.argmax(cv_scores_knn)]\n",
    "print(f'The best number of neighbors is {best_k} with a cross-validation accuracy of {max(cv_scores_knn):.2f}')\n",
    " \n",
    "knn_best = KNeighborsClassifier(n_neighbors=best_k)\n",
    "knn_best.fit(X_train2_scaled, y_train)\n",
    "\n",
    "# Evaluate the final performance\n",
    "test_accuracy_knn = knn_best.score(X_test2_scaled, y_test)\n",
    "print(f'Test accuracy of the best KNN model: {test_accuracy_knn:.2f}')"
   ]
  },
  {
   "cell_type": "markdown",
   "metadata": {},
   "source": [
    "19) Write at least one statement summarizing the KNN classifier model's performance and its implications in the context of the dataset and the problem."
   ]
  },
  {
   "cell_type": "markdown",
   "metadata": {},
   "source": [
    "\n",
    "#19 statement on KNN\n",
    "\n",
    "The the best number of neighbors for KNN model is 8, reaching a cross-validation accuracy of 60%. The model achieved a test accuracy of 59%. The test accuracy (59%) is slightly lower than the cross-validation accuracy (60%) which indicate that the model might have slightly overfitted to the training data but still generalizes reasonably well.\n",
    "Overall, the model's accuracy is moderate, which imply that more complex relationships exist in the data that might be better captured by more sophisticated model, such as ensemble methods."
   ]
  },
  {
   "cell_type": "markdown",
   "metadata": {},
   "source": [
    "20 Compare and contrast Cross-validation and KNN\n",
    "\n",
    "The classification tree reached a cross-validation accuracy of 63% and test accuracy of 65%. The KNN classifier reached a cross-validation accuracy of 60% and a final test accuracy of 59%. Classification tree model performed a little bit better based on these features. KNN model might be affected by local variations in the dataset, whereas the decision tree can analyze the data more effectively. The classification tree model's performance mainly depends on the max_depth parameter, and KNN is mainly sensitive to the k.\n",
    "\n",
    "The classification tree perform better test accuracy implies that it captures more relevant decision boundaries in this dataset. KNN is a non-parametric model and does not learn explicit rules. Its performance might degrade when dealing with large datasets. KNN might need more advanced modeling methods to improve performance.\n",
    "\n",
    "The decision tree shows explicit decision rules and features rankings of the influence factors to the wine quality. We can easily see the alcohol and volatile acidity are the most influential factors on the wine quality. KNN does not provide explicit feature importance, as it relies on distance predictions, making it harder to interpret which features is impactful.\n"
   ]
  }
 ],
 "metadata": {
  "kernelspec": {
   "display_name": ".venv",
   "language": "python",
   "name": "python3"
  },
  "language_info": {
   "codemirror_mode": {
    "name": "ipython",
    "version": 3
   },
   "file_extension": ".py",
   "mimetype": "text/x-python",
   "name": "python",
   "nbconvert_exporter": "python",
   "pygments_lexer": "ipython3",
   "version": "3.9.6"
  }
 },
 "nbformat": 4,
 "nbformat_minor": 2
}
